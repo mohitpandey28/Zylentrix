{
 "cells": [
  {
   "cell_type": "markdown",
   "id": "c85340c9",
   "metadata": {},
   "source": [
    "# loading file"
   ]
  },
  {
   "cell_type": "code",
   "execution_count": 37,
   "id": "675a5805",
   "metadata": {},
   "outputs": [
    {
     "name": "stdout",
     "output_type": "stream",
     "text": [
      "\u001b[33mWARNING: Ignoring invalid distribution -andas (/Users/apple/opt/anaconda3/lib/python3.9/site-packages)\u001b[0m\u001b[33m\n",
      "\u001b[0mCollecting numpy<2.0\n",
      "  Downloading numpy-1.26.4-cp39-cp39-macosx_10_9_x86_64.whl.metadata (61 kB)\n",
      "\u001b[2K     \u001b[90m━━━━━━━━━━━━━━━━━━━━━━━━━━━━━━━━━━━━━━━\u001b[0m \u001b[32m61.1/61.1 kB\u001b[0m \u001b[31m581.1 kB/s\u001b[0m eta \u001b[36m0:00:00\u001b[0ma \u001b[36m0:00:01\u001b[0m\n",
      "\u001b[?25hDownloading numpy-1.26.4-cp39-cp39-macosx_10_9_x86_64.whl (20.6 MB)\n",
      "\u001b[2K   \u001b[90m━━━━━━━━━━━━━━━━━━━━━━━━━━━━━━━━━━━━━━━━\u001b[0m \u001b[32m20.6/20.6 MB\u001b[0m \u001b[31m1.1 MB/s\u001b[0m eta \u001b[36m0:00:00\u001b[0m00:01\u001b[0m00:01\u001b[0m\n",
      "\u001b[?25h\u001b[33mWARNING: Error parsing requirements for tqdm: [Errno 2] No such file or directory: '/Users/apple/opt/anaconda3/lib/python3.9/site-packages/tqdm-4.64.1.dist-info/METADATA'\u001b[0m\u001b[33m\n",
      "\u001b[0m\u001b[33mWARNING: Ignoring invalid distribution -andas (/Users/apple/opt/anaconda3/lib/python3.9/site-packages)\u001b[0m\u001b[33m\n",
      "\u001b[0mInstalling collected packages: numpy\n",
      "  Attempting uninstall: numpy\n",
      "    Found existing installation: numpy 2.0.2\n",
      "    Uninstalling numpy-2.0.2:\n",
      "      Successfully uninstalled numpy-2.0.2\n",
      "\u001b[31mERROR: pip's dependency resolver does not currently take into account all the packages that are installed. This behaviour is the source of the following dependency conflicts.\n",
      "daal4py 2021.6.0 requires daal==2021.4.0, which is not installed.\n",
      "panel 0.13.1 requires tqdm>=4.48.0, which is not installed.\n",
      "sweetviz 2.1.4 requires tqdm>=4.43.0, which is not installed.\n",
      "numba 0.55.1 requires numpy<1.22,>=1.18, but you have numpy 1.26.4 which is incompatible.\n",
      "scipy 1.9.1 requires numpy<1.25.0,>=1.18.5, but you have numpy 1.26.4 which is incompatible.\u001b[0m\u001b[31m\n",
      "\u001b[0mSuccessfully installed numpy-1.26.4\n",
      "\n",
      "\u001b[1m[\u001b[0m\u001b[34;49mnotice\u001b[0m\u001b[1;39;49m]\u001b[0m\u001b[39;49m A new release of pip is available: \u001b[0m\u001b[31;49m24.0\u001b[0m\u001b[39;49m -> \u001b[0m\u001b[32;49m25.0.1\u001b[0m\n",
      "\u001b[1m[\u001b[0m\u001b[34;49mnotice\u001b[0m\u001b[1;39;49m]\u001b[0m\u001b[39;49m To update, run: \u001b[0m\u001b[32;49m/Users/apple/opt/anaconda3/bin/python -m pip install --upgrade pip\u001b[0m\n",
      "Note: you may need to restart the kernel to use updated packages.\n"
     ]
    }
   ],
   "source": [
    "pip install \"numpy<2.0\"\n"
   ]
  },
  {
   "cell_type": "code",
   "execution_count": 1,
   "id": "5c407bae",
   "metadata": {},
   "outputs": [
    {
     "name": "stderr",
     "output_type": "stream",
     "text": [
      "/Users/apple/opt/anaconda3/lib/python3.9/site-packages/pandas/core/computation/expressions.py:21: UserWarning: Pandas requires version '2.8.4' or newer of 'numexpr' (version '2.8.3' currently installed).\n",
      "  from pandas.core.computation.check import NUMEXPR_INSTALLED\n",
      "/Users/apple/opt/anaconda3/lib/python3.9/site-packages/pandas/core/arrays/masked.py:60: UserWarning: Pandas requires version '1.3.6' or newer of 'bottleneck' (version '1.3.5' currently installed).\n",
      "  from pandas.core import (\n"
     ]
    }
   ],
   "source": [
    "import pandas as pd\n",
    "import numpy as np"
   ]
  },
  {
   "cell_type": "code",
   "execution_count": 50,
   "id": "00649a6f",
   "metadata": {},
   "outputs": [],
   "source": [
    "students = pd.read_csv(\"/Users/apple/Desktop/untitled folder 4/students.csv\")"
   ]
  },
  {
   "cell_type": "code",
   "execution_count": 51,
   "id": "00b8d591",
   "metadata": {},
   "outputs": [],
   "source": [
    "courses = pd.read_csv(\"/Users/apple/Desktop/untitled folder 4/course.csv\")"
   ]
  },
  {
   "cell_type": "code",
   "execution_count": 52,
   "id": "fa08e467",
   "metadata": {},
   "outputs": [],
   "source": [
    "feedback = pd.read_csv(\"/Users/apple/Desktop/untitled folder 4/feedback.csv\")"
   ]
  },
  {
   "cell_type": "markdown",
   "id": "e2e04e43",
   "metadata": {},
   "source": [
    "# 1.Data cleaning and preparation"
   ]
  },
  {
   "cell_type": "code",
   "execution_count": 53,
   "id": "2dfaa288",
   "metadata": {},
   "outputs": [
    {
     "data": {
      "text/html": [
       "<div>\n",
       "<style scoped>\n",
       "    .dataframe tbody tr th:only-of-type {\n",
       "        vertical-align: middle;\n",
       "    }\n",
       "\n",
       "    .dataframe tbody tr th {\n",
       "        vertical-align: top;\n",
       "    }\n",
       "\n",
       "    .dataframe thead th {\n",
       "        text-align: right;\n",
       "    }\n",
       "</style>\n",
       "<table border=\"1\" class=\"dataframe\">\n",
       "  <thead>\n",
       "    <tr style=\"text-align: right;\">\n",
       "      <th></th>\n",
       "      <th>Student_ID</th>\n",
       "      <th>Name</th>\n",
       "      <th>Age</th>\n",
       "      <th>Gender</th>\n",
       "      <th>Location</th>\n",
       "      <th>Enrolment_Date</th>\n",
       "    </tr>\n",
       "  </thead>\n",
       "  <tbody>\n",
       "    <tr>\n",
       "      <th>0</th>\n",
       "      <td>S001</td>\n",
       "      <td>Student_1</td>\n",
       "      <td>24</td>\n",
       "      <td>Female</td>\n",
       "      <td>Kolkata</td>\n",
       "      <td>24/11/2023</td>\n",
       "    </tr>\n",
       "    <tr>\n",
       "      <th>1</th>\n",
       "      <td>S002</td>\n",
       "      <td>Student_2</td>\n",
       "      <td>32</td>\n",
       "      <td>Other</td>\n",
       "      <td>Chennai</td>\n",
       "      <td>27/02/2023</td>\n",
       "    </tr>\n",
       "    <tr>\n",
       "      <th>2</th>\n",
       "      <td>S003</td>\n",
       "      <td>Student_3</td>\n",
       "      <td>28</td>\n",
       "      <td>Other</td>\n",
       "      <td>Mumbai</td>\n",
       "      <td>13/01/2023</td>\n",
       "    </tr>\n",
       "    <tr>\n",
       "      <th>3</th>\n",
       "      <td>S004</td>\n",
       "      <td>Student_4</td>\n",
       "      <td>25</td>\n",
       "      <td>Female</td>\n",
       "      <td>Bangalore</td>\n",
       "      <td>21/05/2023</td>\n",
       "    </tr>\n",
       "    <tr>\n",
       "      <th>4</th>\n",
       "      <td>S005</td>\n",
       "      <td>Student_5</td>\n",
       "      <td>24</td>\n",
       "      <td>Other</td>\n",
       "      <td>Delhi</td>\n",
       "      <td>06/05/2023</td>\n",
       "    </tr>\n",
       "  </tbody>\n",
       "</table>\n",
       "</div>"
      ],
      "text/plain": [
       "  Student_ID       Name  Age  Gender   Location Enrolment_Date\n",
       "0       S001  Student_1   24  Female    Kolkata     24/11/2023\n",
       "1       S002  Student_2   32   Other    Chennai     27/02/2023\n",
       "2       S003  Student_3   28   Other     Mumbai     13/01/2023\n",
       "3       S004  Student_4   25  Female  Bangalore     21/05/2023\n",
       "4       S005  Student_5   24   Other      Delhi     06/05/2023"
      ]
     },
     "execution_count": 53,
     "metadata": {},
     "output_type": "execute_result"
    }
   ],
   "source": [
    "students.head()"
   ]
  },
  {
   "cell_type": "code",
   "execution_count": 54,
   "id": "29f67369",
   "metadata": {},
   "outputs": [],
   "source": [
    "students['Enrolment_Date'] = pd.to_datetime(students['Enrolment_Date'], format=\"%d/%m/%Y\")\n"
   ]
  },
  {
   "cell_type": "code",
   "execution_count": 55,
   "id": "826e0939",
   "metadata": {},
   "outputs": [
    {
     "name": "stdout",
     "output_type": "stream",
     "text": [
      "<class 'pandas.core.frame.DataFrame'>\n",
      "RangeIndex: 100 entries, 0 to 99\n",
      "Data columns (total 6 columns):\n",
      " #   Column          Non-Null Count  Dtype         \n",
      "---  ------          --------------  -----         \n",
      " 0   Student_ID      100 non-null    object        \n",
      " 1   Name            100 non-null    object        \n",
      " 2   Age             100 non-null    int64         \n",
      " 3   Gender          100 non-null    object        \n",
      " 4   Location        100 non-null    object        \n",
      " 5   Enrolment_Date  100 non-null    datetime64[ns]\n",
      "dtypes: datetime64[ns](1), int64(1), object(4)\n",
      "memory usage: 4.8+ KB\n"
     ]
    }
   ],
   "source": [
    "students.info()"
   ]
  },
  {
   "cell_type": "code",
   "execution_count": 56,
   "id": "6a25a4d4",
   "metadata": {},
   "outputs": [
    {
     "data": {
      "text/html": [
       "<div>\n",
       "<style scoped>\n",
       "    .dataframe tbody tr th:only-of-type {\n",
       "        vertical-align: middle;\n",
       "    }\n",
       "\n",
       "    .dataframe tbody tr th {\n",
       "        vertical-align: top;\n",
       "    }\n",
       "\n",
       "    .dataframe thead th {\n",
       "        text-align: right;\n",
       "    }\n",
       "</style>\n",
       "<table border=\"1\" class=\"dataframe\">\n",
       "  <thead>\n",
       "    <tr style=\"text-align: right;\">\n",
       "      <th></th>\n",
       "      <th>Student_ID</th>\n",
       "      <th>Name</th>\n",
       "      <th>Age</th>\n",
       "      <th>Gender</th>\n",
       "      <th>Location</th>\n",
       "      <th>Enrolment_Date</th>\n",
       "    </tr>\n",
       "  </thead>\n",
       "  <tbody>\n",
       "    <tr>\n",
       "      <th>0</th>\n",
       "      <td>S001</td>\n",
       "      <td>Student_1</td>\n",
       "      <td>24</td>\n",
       "      <td>Female</td>\n",
       "      <td>Kolkata</td>\n",
       "      <td>2023-11-24</td>\n",
       "    </tr>\n",
       "    <tr>\n",
       "      <th>1</th>\n",
       "      <td>S002</td>\n",
       "      <td>Student_2</td>\n",
       "      <td>32</td>\n",
       "      <td>Other</td>\n",
       "      <td>Chennai</td>\n",
       "      <td>2023-02-27</td>\n",
       "    </tr>\n",
       "    <tr>\n",
       "      <th>2</th>\n",
       "      <td>S003</td>\n",
       "      <td>Student_3</td>\n",
       "      <td>28</td>\n",
       "      <td>Other</td>\n",
       "      <td>Mumbai</td>\n",
       "      <td>2023-01-13</td>\n",
       "    </tr>\n",
       "    <tr>\n",
       "      <th>3</th>\n",
       "      <td>S004</td>\n",
       "      <td>Student_4</td>\n",
       "      <td>25</td>\n",
       "      <td>Female</td>\n",
       "      <td>Bangalore</td>\n",
       "      <td>2023-05-21</td>\n",
       "    </tr>\n",
       "    <tr>\n",
       "      <th>4</th>\n",
       "      <td>S005</td>\n",
       "      <td>Student_5</td>\n",
       "      <td>24</td>\n",
       "      <td>Other</td>\n",
       "      <td>Delhi</td>\n",
       "      <td>2023-05-06</td>\n",
       "    </tr>\n",
       "  </tbody>\n",
       "</table>\n",
       "</div>"
      ],
      "text/plain": [
       "  Student_ID       Name  Age  Gender   Location Enrolment_Date\n",
       "0       S001  Student_1   24  Female    Kolkata     2023-11-24\n",
       "1       S002  Student_2   32   Other    Chennai     2023-02-27\n",
       "2       S003  Student_3   28   Other     Mumbai     2023-01-13\n",
       "3       S004  Student_4   25  Female  Bangalore     2023-05-21\n",
       "4       S005  Student_5   24   Other      Delhi     2023-05-06"
      ]
     },
     "execution_count": 56,
     "metadata": {},
     "output_type": "execute_result"
    }
   ],
   "source": [
    "students.head()"
   ]
  },
  {
   "cell_type": "code",
   "execution_count": 57,
   "id": "f18d813d",
   "metadata": {},
   "outputs": [
    {
     "data": {
      "text/html": [
       "<div>\n",
       "<style scoped>\n",
       "    .dataframe tbody tr th:only-of-type {\n",
       "        vertical-align: middle;\n",
       "    }\n",
       "\n",
       "    .dataframe tbody tr th {\n",
       "        vertical-align: top;\n",
       "    }\n",
       "\n",
       "    .dataframe thead th {\n",
       "        text-align: right;\n",
       "    }\n",
       "</style>\n",
       "<table border=\"1\" class=\"dataframe\">\n",
       "  <thead>\n",
       "    <tr style=\"text-align: right;\">\n",
       "      <th></th>\n",
       "      <th>Age</th>\n",
       "      <th>Enrolment_Date</th>\n",
       "    </tr>\n",
       "  </thead>\n",
       "  <tbody>\n",
       "    <tr>\n",
       "      <th>count</th>\n",
       "      <td>100.000000</td>\n",
       "      <td>100</td>\n",
       "    </tr>\n",
       "    <tr>\n",
       "      <th>mean</th>\n",
       "      <td>25.480000</td>\n",
       "      <td>2023-06-30 16:19:12</td>\n",
       "    </tr>\n",
       "    <tr>\n",
       "      <th>min</th>\n",
       "      <td>18.000000</td>\n",
       "      <td>2023-01-04 00:00:00</td>\n",
       "    </tr>\n",
       "    <tr>\n",
       "      <th>25%</th>\n",
       "      <td>21.000000</td>\n",
       "      <td>2023-03-28 00:00:00</td>\n",
       "    </tr>\n",
       "    <tr>\n",
       "      <th>50%</th>\n",
       "      <td>25.000000</td>\n",
       "      <td>2023-06-23 00:00:00</td>\n",
       "    </tr>\n",
       "    <tr>\n",
       "      <th>75%</th>\n",
       "      <td>29.000000</td>\n",
       "      <td>2023-10-13 12:00:00</td>\n",
       "    </tr>\n",
       "    <tr>\n",
       "      <th>max</th>\n",
       "      <td>34.000000</td>\n",
       "      <td>2023-12-27 00:00:00</td>\n",
       "    </tr>\n",
       "    <tr>\n",
       "      <th>std</th>\n",
       "      <td>4.835642</td>\n",
       "      <td>NaN</td>\n",
       "    </tr>\n",
       "  </tbody>\n",
       "</table>\n",
       "</div>"
      ],
      "text/plain": [
       "              Age       Enrolment_Date\n",
       "count  100.000000                  100\n",
       "mean    25.480000  2023-06-30 16:19:12\n",
       "min     18.000000  2023-01-04 00:00:00\n",
       "25%     21.000000  2023-03-28 00:00:00\n",
       "50%     25.000000  2023-06-23 00:00:00\n",
       "75%     29.000000  2023-10-13 12:00:00\n",
       "max     34.000000  2023-12-27 00:00:00\n",
       "std      4.835642                  NaN"
      ]
     },
     "execution_count": 57,
     "metadata": {},
     "output_type": "execute_result"
    }
   ],
   "source": [
    "students.describe()"
   ]
  },
  {
   "cell_type": "code",
   "execution_count": 58,
   "id": "887243f0",
   "metadata": {},
   "outputs": [
    {
     "data": {
      "text/plain": [
       "Student_ID        0\n",
       "Name              0\n",
       "Age               0\n",
       "Gender            0\n",
       "Location          0\n",
       "Enrolment_Date    0\n",
       "dtype: int64"
      ]
     },
     "execution_count": 58,
     "metadata": {},
     "output_type": "execute_result"
    }
   ],
   "source": [
    "students.isnull().sum()"
   ]
  },
  {
   "cell_type": "code",
   "execution_count": 59,
   "id": "5ba6d208",
   "metadata": {},
   "outputs": [
    {
     "data": {
      "text/plain": [
       "0"
      ]
     },
     "execution_count": 59,
     "metadata": {},
     "output_type": "execute_result"
    }
   ],
   "source": [
    "students.duplicated().sum()"
   ]
  },
  {
   "cell_type": "code",
   "execution_count": null,
   "id": "a5ee766a",
   "metadata": {},
   "outputs": [],
   "source": []
  },
  {
   "cell_type": "code",
   "execution_count": 60,
   "id": "98bc5109",
   "metadata": {},
   "outputs": [
    {
     "data": {
      "text/html": [
       "<div>\n",
       "<style scoped>\n",
       "    .dataframe tbody tr th:only-of-type {\n",
       "        vertical-align: middle;\n",
       "    }\n",
       "\n",
       "    .dataframe tbody tr th {\n",
       "        vertical-align: top;\n",
       "    }\n",
       "\n",
       "    .dataframe thead th {\n",
       "        text-align: right;\n",
       "    }\n",
       "</style>\n",
       "<table border=\"1\" class=\"dataframe\">\n",
       "  <thead>\n",
       "    <tr style=\"text-align: right;\">\n",
       "      <th></th>\n",
       "      <th>Student_ID</th>\n",
       "      <th>Course_ID</th>\n",
       "      <th>Date</th>\n",
       "      <th>Time_Spent_Minutes</th>\n",
       "      <th>Completion_Percentage</th>\n",
       "    </tr>\n",
       "  </thead>\n",
       "  <tbody>\n",
       "    <tr>\n",
       "      <th>0</th>\n",
       "      <td>S001</td>\n",
       "      <td>PY202</td>\n",
       "      <td>05/01/2024</td>\n",
       "      <td>90</td>\n",
       "      <td>46.10</td>\n",
       "    </tr>\n",
       "    <tr>\n",
       "      <th>1</th>\n",
       "      <td>S001</td>\n",
       "      <td>DM101</td>\n",
       "      <td>28/01/2024</td>\n",
       "      <td>155</td>\n",
       "      <td>88.87</td>\n",
       "    </tr>\n",
       "    <tr>\n",
       "      <th>2</th>\n",
       "      <td>S001</td>\n",
       "      <td>UX303</td>\n",
       "      <td>28/01/2024</td>\n",
       "      <td>177</td>\n",
       "      <td>54.93</td>\n",
       "    </tr>\n",
       "    <tr>\n",
       "      <th>3</th>\n",
       "      <td>S002</td>\n",
       "      <td>PY202</td>\n",
       "      <td>03/02/2024</td>\n",
       "      <td>45</td>\n",
       "      <td>32.20</td>\n",
       "    </tr>\n",
       "    <tr>\n",
       "      <th>4</th>\n",
       "      <td>S002</td>\n",
       "      <td>UX303</td>\n",
       "      <td>15/03/2024</td>\n",
       "      <td>119</td>\n",
       "      <td>90.80</td>\n",
       "    </tr>\n",
       "  </tbody>\n",
       "</table>\n",
       "</div>"
      ],
      "text/plain": [
       "  Student_ID Course_ID        Date  Time_Spent_Minutes  Completion_Percentage\n",
       "0       S001     PY202  05/01/2024                  90                  46.10\n",
       "1       S001     DM101  28/01/2024                 155                  88.87\n",
       "2       S001     UX303  28/01/2024                 177                  54.93\n",
       "3       S002     PY202  03/02/2024                  45                  32.20\n",
       "4       S002     UX303  15/03/2024                 119                  90.80"
      ]
     },
     "execution_count": 60,
     "metadata": {},
     "output_type": "execute_result"
    }
   ],
   "source": [
    "courses.head()"
   ]
  },
  {
   "cell_type": "code",
   "execution_count": 61,
   "id": "be8025b3",
   "metadata": {},
   "outputs": [],
   "source": [
    "courses['Date'] = pd.to_datetime(courses['Date'], format=\"%d/%m/%Y\")"
   ]
  },
  {
   "cell_type": "code",
   "execution_count": 62,
   "id": "1cd0755d",
   "metadata": {},
   "outputs": [
    {
     "data": {
      "text/html": [
       "<div>\n",
       "<style scoped>\n",
       "    .dataframe tbody tr th:only-of-type {\n",
       "        vertical-align: middle;\n",
       "    }\n",
       "\n",
       "    .dataframe tbody tr th {\n",
       "        vertical-align: top;\n",
       "    }\n",
       "\n",
       "    .dataframe thead th {\n",
       "        text-align: right;\n",
       "    }\n",
       "</style>\n",
       "<table border=\"1\" class=\"dataframe\">\n",
       "  <thead>\n",
       "    <tr style=\"text-align: right;\">\n",
       "      <th></th>\n",
       "      <th>Student_ID</th>\n",
       "      <th>Course_ID</th>\n",
       "      <th>Date</th>\n",
       "      <th>Time_Spent_Minutes</th>\n",
       "      <th>Completion_Percentage</th>\n",
       "    </tr>\n",
       "  </thead>\n",
       "  <tbody>\n",
       "    <tr>\n",
       "      <th>0</th>\n",
       "      <td>S001</td>\n",
       "      <td>PY202</td>\n",
       "      <td>2024-01-05</td>\n",
       "      <td>90</td>\n",
       "      <td>46.10</td>\n",
       "    </tr>\n",
       "    <tr>\n",
       "      <th>1</th>\n",
       "      <td>S001</td>\n",
       "      <td>DM101</td>\n",
       "      <td>2024-01-28</td>\n",
       "      <td>155</td>\n",
       "      <td>88.87</td>\n",
       "    </tr>\n",
       "    <tr>\n",
       "      <th>2</th>\n",
       "      <td>S001</td>\n",
       "      <td>UX303</td>\n",
       "      <td>2024-01-28</td>\n",
       "      <td>177</td>\n",
       "      <td>54.93</td>\n",
       "    </tr>\n",
       "    <tr>\n",
       "      <th>3</th>\n",
       "      <td>S002</td>\n",
       "      <td>PY202</td>\n",
       "      <td>2024-02-03</td>\n",
       "      <td>45</td>\n",
       "      <td>32.20</td>\n",
       "    </tr>\n",
       "    <tr>\n",
       "      <th>4</th>\n",
       "      <td>S002</td>\n",
       "      <td>UX303</td>\n",
       "      <td>2024-03-15</td>\n",
       "      <td>119</td>\n",
       "      <td>90.80</td>\n",
       "    </tr>\n",
       "  </tbody>\n",
       "</table>\n",
       "</div>"
      ],
      "text/plain": [
       "  Student_ID Course_ID       Date  Time_Spent_Minutes  Completion_Percentage\n",
       "0       S001     PY202 2024-01-05                  90                  46.10\n",
       "1       S001     DM101 2024-01-28                 155                  88.87\n",
       "2       S001     UX303 2024-01-28                 177                  54.93\n",
       "3       S002     PY202 2024-02-03                  45                  32.20\n",
       "4       S002     UX303 2024-03-15                 119                  90.80"
      ]
     },
     "execution_count": 62,
     "metadata": {},
     "output_type": "execute_result"
    }
   ],
   "source": [
    "courses.head()"
   ]
  },
  {
   "cell_type": "code",
   "execution_count": 63,
   "id": "b124983e",
   "metadata": {},
   "outputs": [
    {
     "name": "stdout",
     "output_type": "stream",
     "text": [
      "<class 'pandas.core.frame.DataFrame'>\n",
      "RangeIndex: 659 entries, 0 to 658\n",
      "Data columns (total 5 columns):\n",
      " #   Column                 Non-Null Count  Dtype         \n",
      "---  ------                 --------------  -----         \n",
      " 0   Student_ID             659 non-null    object        \n",
      " 1   Course_ID              659 non-null    object        \n",
      " 2   Date                   659 non-null    datetime64[ns]\n",
      " 3   Time_Spent_Minutes     659 non-null    int64         \n",
      " 4   Completion_Percentage  659 non-null    float64       \n",
      "dtypes: datetime64[ns](1), float64(1), int64(1), object(2)\n",
      "memory usage: 25.9+ KB\n"
     ]
    }
   ],
   "source": [
    "courses.info()"
   ]
  },
  {
   "cell_type": "code",
   "execution_count": 64,
   "id": "69b9e753",
   "metadata": {},
   "outputs": [
    {
     "data": {
      "text/html": [
       "<div>\n",
       "<style scoped>\n",
       "    .dataframe tbody tr th:only-of-type {\n",
       "        vertical-align: middle;\n",
       "    }\n",
       "\n",
       "    .dataframe tbody tr th {\n",
       "        vertical-align: top;\n",
       "    }\n",
       "\n",
       "    .dataframe thead th {\n",
       "        text-align: right;\n",
       "    }\n",
       "</style>\n",
       "<table border=\"1\" class=\"dataframe\">\n",
       "  <thead>\n",
       "    <tr style=\"text-align: right;\">\n",
       "      <th></th>\n",
       "      <th>Date</th>\n",
       "      <th>Time_Spent_Minutes</th>\n",
       "      <th>Completion_Percentage</th>\n",
       "    </tr>\n",
       "  </thead>\n",
       "  <tbody>\n",
       "    <tr>\n",
       "      <th>count</th>\n",
       "      <td>659</td>\n",
       "      <td>659.000000</td>\n",
       "      <td>659.000000</td>\n",
       "    </tr>\n",
       "    <tr>\n",
       "      <th>mean</th>\n",
       "      <td>2024-02-15 14:18:45.341426432</td>\n",
       "      <td>98.113809</td>\n",
       "      <td>54.778710</td>\n",
       "    </tr>\n",
       "    <tr>\n",
       "      <th>min</th>\n",
       "      <td>2024-01-01 00:00:00</td>\n",
       "      <td>10.000000</td>\n",
       "      <td>10.150000</td>\n",
       "    </tr>\n",
       "    <tr>\n",
       "      <th>25%</th>\n",
       "      <td>2024-01-24 00:00:00</td>\n",
       "      <td>58.000000</td>\n",
       "      <td>32.070000</td>\n",
       "    </tr>\n",
       "    <tr>\n",
       "      <th>50%</th>\n",
       "      <td>2024-02-17 00:00:00</td>\n",
       "      <td>98.000000</td>\n",
       "      <td>53.450000</td>\n",
       "    </tr>\n",
       "    <tr>\n",
       "      <th>75%</th>\n",
       "      <td>2024-03-10 00:00:00</td>\n",
       "      <td>139.000000</td>\n",
       "      <td>77.560000</td>\n",
       "    </tr>\n",
       "    <tr>\n",
       "      <th>max</th>\n",
       "      <td>2024-03-31 00:00:00</td>\n",
       "      <td>180.000000</td>\n",
       "      <td>100.000000</td>\n",
       "    </tr>\n",
       "    <tr>\n",
       "      <th>std</th>\n",
       "      <td>NaN</td>\n",
       "      <td>49.045548</td>\n",
       "      <td>26.289156</td>\n",
       "    </tr>\n",
       "  </tbody>\n",
       "</table>\n",
       "</div>"
      ],
      "text/plain": [
       "                                Date  Time_Spent_Minutes  \\\n",
       "count                            659          659.000000   \n",
       "mean   2024-02-15 14:18:45.341426432           98.113809   \n",
       "min              2024-01-01 00:00:00           10.000000   \n",
       "25%              2024-01-24 00:00:00           58.000000   \n",
       "50%              2024-02-17 00:00:00           98.000000   \n",
       "75%              2024-03-10 00:00:00          139.000000   \n",
       "max              2024-03-31 00:00:00          180.000000   \n",
       "std                              NaN           49.045548   \n",
       "\n",
       "       Completion_Percentage  \n",
       "count             659.000000  \n",
       "mean               54.778710  \n",
       "min                10.150000  \n",
       "25%                32.070000  \n",
       "50%                53.450000  \n",
       "75%                77.560000  \n",
       "max               100.000000  \n",
       "std                26.289156  "
      ]
     },
     "execution_count": 64,
     "metadata": {},
     "output_type": "execute_result"
    }
   ],
   "source": [
    "courses.describe()"
   ]
  },
  {
   "cell_type": "code",
   "execution_count": 65,
   "id": "a2d69d5c",
   "metadata": {},
   "outputs": [
    {
     "data": {
      "text/plain": [
       "Student_ID               0\n",
       "Course_ID                0\n",
       "Date                     0\n",
       "Time_Spent_Minutes       0\n",
       "Completion_Percentage    0\n",
       "dtype: int64"
      ]
     },
     "execution_count": 65,
     "metadata": {},
     "output_type": "execute_result"
    }
   ],
   "source": [
    "courses.isnull().sum()"
   ]
  },
  {
   "cell_type": "code",
   "execution_count": 66,
   "id": "bded7ab6",
   "metadata": {},
   "outputs": [
    {
     "data": {
      "text/plain": [
       "0"
      ]
     },
     "execution_count": 66,
     "metadata": {},
     "output_type": "execute_result"
    }
   ],
   "source": [
    "courses.duplicated().sum()"
   ]
  },
  {
   "cell_type": "code",
   "execution_count": null,
   "id": "fada6d60",
   "metadata": {},
   "outputs": [],
   "source": []
  },
  {
   "cell_type": "code",
   "execution_count": 67,
   "id": "fd83599d",
   "metadata": {},
   "outputs": [
    {
     "data": {
      "text/html": [
       "<div>\n",
       "<style scoped>\n",
       "    .dataframe tbody tr th:only-of-type {\n",
       "        vertical-align: middle;\n",
       "    }\n",
       "\n",
       "    .dataframe tbody tr th {\n",
       "        vertical-align: top;\n",
       "    }\n",
       "\n",
       "    .dataframe thead th {\n",
       "        text-align: right;\n",
       "    }\n",
       "</style>\n",
       "<table border=\"1\" class=\"dataframe\">\n",
       "  <thead>\n",
       "    <tr style=\"text-align: right;\">\n",
       "      <th></th>\n",
       "      <th>Student_ID</th>\n",
       "      <th>Course_ID</th>\n",
       "      <th>Rating</th>\n",
       "      <th>Feedback_Text</th>\n",
       "    </tr>\n",
       "  </thead>\n",
       "  <tbody>\n",
       "    <tr>\n",
       "      <th>0</th>\n",
       "      <td>S057</td>\n",
       "      <td>UX303</td>\n",
       "      <td>2</td>\n",
       "      <td>Too fast-paced</td>\n",
       "    </tr>\n",
       "    <tr>\n",
       "      <th>1</th>\n",
       "      <td>S063</td>\n",
       "      <td>PY202</td>\n",
       "      <td>2</td>\n",
       "      <td>Loved the examples</td>\n",
       "    </tr>\n",
       "    <tr>\n",
       "      <th>2</th>\n",
       "      <td>S022</td>\n",
       "      <td>PY202</td>\n",
       "      <td>4</td>\n",
       "      <td>Could be better</td>\n",
       "    </tr>\n",
       "    <tr>\n",
       "      <th>3</th>\n",
       "      <td>S011</td>\n",
       "      <td>PY202</td>\n",
       "      <td>5</td>\n",
       "      <td>Needs improvement</td>\n",
       "    </tr>\n",
       "    <tr>\n",
       "      <th>4</th>\n",
       "      <td>S073</td>\n",
       "      <td>WD404</td>\n",
       "      <td>4</td>\n",
       "      <td>Could be better</td>\n",
       "    </tr>\n",
       "  </tbody>\n",
       "</table>\n",
       "</div>"
      ],
      "text/plain": [
       "  Student_ID Course_ID  Rating       Feedback_Text\n",
       "0       S057     UX303       2      Too fast-paced\n",
       "1       S063     PY202       2  Loved the examples\n",
       "2       S022     PY202       4     Could be better\n",
       "3       S011     PY202       5   Needs improvement\n",
       "4       S073     WD404       4     Could be better"
      ]
     },
     "execution_count": 67,
     "metadata": {},
     "output_type": "execute_result"
    }
   ],
   "source": [
    "feedback.head()"
   ]
  },
  {
   "cell_type": "code",
   "execution_count": 68,
   "id": "4787ff99",
   "metadata": {},
   "outputs": [
    {
     "data": {
      "text/html": [
       "<div>\n",
       "<style scoped>\n",
       "    .dataframe tbody tr th:only-of-type {\n",
       "        vertical-align: middle;\n",
       "    }\n",
       "\n",
       "    .dataframe tbody tr th {\n",
       "        vertical-align: top;\n",
       "    }\n",
       "\n",
       "    .dataframe thead th {\n",
       "        text-align: right;\n",
       "    }\n",
       "</style>\n",
       "<table border=\"1\" class=\"dataframe\">\n",
       "  <thead>\n",
       "    <tr style=\"text-align: right;\">\n",
       "      <th></th>\n",
       "      <th>Rating</th>\n",
       "    </tr>\n",
       "  </thead>\n",
       "  <tbody>\n",
       "    <tr>\n",
       "      <th>count</th>\n",
       "      <td>80.000000</td>\n",
       "    </tr>\n",
       "    <tr>\n",
       "      <th>mean</th>\n",
       "      <td>2.962500</td>\n",
       "    </tr>\n",
       "    <tr>\n",
       "      <th>std</th>\n",
       "      <td>1.453444</td>\n",
       "    </tr>\n",
       "    <tr>\n",
       "      <th>min</th>\n",
       "      <td>1.000000</td>\n",
       "    </tr>\n",
       "    <tr>\n",
       "      <th>25%</th>\n",
       "      <td>2.000000</td>\n",
       "    </tr>\n",
       "    <tr>\n",
       "      <th>50%</th>\n",
       "      <td>3.000000</td>\n",
       "    </tr>\n",
       "    <tr>\n",
       "      <th>75%</th>\n",
       "      <td>4.000000</td>\n",
       "    </tr>\n",
       "    <tr>\n",
       "      <th>max</th>\n",
       "      <td>5.000000</td>\n",
       "    </tr>\n",
       "  </tbody>\n",
       "</table>\n",
       "</div>"
      ],
      "text/plain": [
       "          Rating\n",
       "count  80.000000\n",
       "mean    2.962500\n",
       "std     1.453444\n",
       "min     1.000000\n",
       "25%     2.000000\n",
       "50%     3.000000\n",
       "75%     4.000000\n",
       "max     5.000000"
      ]
     },
     "execution_count": 68,
     "metadata": {},
     "output_type": "execute_result"
    }
   ],
   "source": [
    "feedback.describe()"
   ]
  },
  {
   "cell_type": "code",
   "execution_count": 69,
   "id": "433c1733",
   "metadata": {},
   "outputs": [
    {
     "name": "stdout",
     "output_type": "stream",
     "text": [
      "<class 'pandas.core.frame.DataFrame'>\n",
      "RangeIndex: 80 entries, 0 to 79\n",
      "Data columns (total 4 columns):\n",
      " #   Column         Non-Null Count  Dtype \n",
      "---  ------         --------------  ----- \n",
      " 0   Student_ID     80 non-null     object\n",
      " 1   Course_ID      80 non-null     object\n",
      " 2   Rating         80 non-null     int64 \n",
      " 3   Feedback_Text  80 non-null     object\n",
      "dtypes: int64(1), object(3)\n",
      "memory usage: 2.6+ KB\n"
     ]
    }
   ],
   "source": [
    "feedback.info()"
   ]
  },
  {
   "cell_type": "code",
   "execution_count": 70,
   "id": "ebf37a66",
   "metadata": {},
   "outputs": [
    {
     "data": {
      "text/plain": [
       "Student_ID       0\n",
       "Course_ID        0\n",
       "Rating           0\n",
       "Feedback_Text    0\n",
       "dtype: int64"
      ]
     },
     "execution_count": 70,
     "metadata": {},
     "output_type": "execute_result"
    }
   ],
   "source": [
    "feedback.isnull().sum()"
   ]
  },
  {
   "cell_type": "code",
   "execution_count": 71,
   "id": "e29a3c77",
   "metadata": {},
   "outputs": [
    {
     "data": {
      "text/plain": [
       "0"
      ]
     },
     "execution_count": 71,
     "metadata": {},
     "output_type": "execute_result"
    }
   ],
   "source": [
    "feedback.duplicated().sum()"
   ]
  },
  {
   "cell_type": "markdown",
   "id": "4c26ca86",
   "metadata": {},
   "source": [
    "### as we can see there is no null values present in all three data sets"
   ]
  },
  {
   "cell_type": "markdown",
   "id": "4fd2f59c",
   "metadata": {},
   "source": [
    "# 2. Exploratory Data analysis"
   ]
  },
  {
   "cell_type": "markdown",
   "id": "03ca2fe8",
   "metadata": {},
   "source": [
    "## question 1: overall avg complition rate"
   ]
  },
  {
   "cell_type": "code",
   "execution_count": 72,
   "id": "81d7453e",
   "metadata": {},
   "outputs": [
    {
     "data": {
      "text/html": [
       "<div>\n",
       "<style scoped>\n",
       "    .dataframe tbody tr th:only-of-type {\n",
       "        vertical-align: middle;\n",
       "    }\n",
       "\n",
       "    .dataframe tbody tr th {\n",
       "        vertical-align: top;\n",
       "    }\n",
       "\n",
       "    .dataframe thead th {\n",
       "        text-align: right;\n",
       "    }\n",
       "</style>\n",
       "<table border=\"1\" class=\"dataframe\">\n",
       "  <thead>\n",
       "    <tr style=\"text-align: right;\">\n",
       "      <th></th>\n",
       "      <th>Student_ID</th>\n",
       "      <th>Course_ID</th>\n",
       "      <th>Date</th>\n",
       "      <th>Time_Spent_Minutes</th>\n",
       "      <th>Completion_Percentage</th>\n",
       "    </tr>\n",
       "  </thead>\n",
       "  <tbody>\n",
       "    <tr>\n",
       "      <th>0</th>\n",
       "      <td>S001</td>\n",
       "      <td>PY202</td>\n",
       "      <td>2024-01-05</td>\n",
       "      <td>90</td>\n",
       "      <td>46.10</td>\n",
       "    </tr>\n",
       "    <tr>\n",
       "      <th>1</th>\n",
       "      <td>S001</td>\n",
       "      <td>DM101</td>\n",
       "      <td>2024-01-28</td>\n",
       "      <td>155</td>\n",
       "      <td>88.87</td>\n",
       "    </tr>\n",
       "    <tr>\n",
       "      <th>2</th>\n",
       "      <td>S001</td>\n",
       "      <td>UX303</td>\n",
       "      <td>2024-01-28</td>\n",
       "      <td>177</td>\n",
       "      <td>54.93</td>\n",
       "    </tr>\n",
       "    <tr>\n",
       "      <th>3</th>\n",
       "      <td>S002</td>\n",
       "      <td>PY202</td>\n",
       "      <td>2024-02-03</td>\n",
       "      <td>45</td>\n",
       "      <td>32.20</td>\n",
       "    </tr>\n",
       "    <tr>\n",
       "      <th>4</th>\n",
       "      <td>S002</td>\n",
       "      <td>UX303</td>\n",
       "      <td>2024-03-15</td>\n",
       "      <td>119</td>\n",
       "      <td>90.80</td>\n",
       "    </tr>\n",
       "  </tbody>\n",
       "</table>\n",
       "</div>"
      ],
      "text/plain": [
       "  Student_ID Course_ID       Date  Time_Spent_Minutes  Completion_Percentage\n",
       "0       S001     PY202 2024-01-05                  90                  46.10\n",
       "1       S001     DM101 2024-01-28                 155                  88.87\n",
       "2       S001     UX303 2024-01-28                 177                  54.93\n",
       "3       S002     PY202 2024-02-03                  45                  32.20\n",
       "4       S002     UX303 2024-03-15                 119                  90.80"
      ]
     },
     "execution_count": 72,
     "metadata": {},
     "output_type": "execute_result"
    }
   ],
   "source": [
    "courses.head()"
   ]
  },
  {
   "cell_type": "code",
   "execution_count": 73,
   "id": "1155d166",
   "metadata": {},
   "outputs": [
    {
     "data": {
      "text/plain": [
       "54.77871016691957"
      ]
     },
     "execution_count": 73,
     "metadata": {},
     "output_type": "execute_result"
    }
   ],
   "source": [
    "courses['Completion_Percentage'].mean()"
   ]
  },
  {
   "cell_type": "code",
   "execution_count": null,
   "id": "f222ec4a",
   "metadata": {},
   "outputs": [],
   "source": []
  },
  {
   "cell_type": "markdown",
   "id": "9e5cd671",
   "metadata": {},
   "source": [
    "## question 2 : Courses with highest & lowest engagement time"
   ]
  },
  {
   "cell_type": "code",
   "execution_count": 74,
   "id": "46524263",
   "metadata": {},
   "outputs": [
    {
     "data": {
      "text/html": [
       "<div>\n",
       "<style scoped>\n",
       "    .dataframe tbody tr th:only-of-type {\n",
       "        vertical-align: middle;\n",
       "    }\n",
       "\n",
       "    .dataframe tbody tr th {\n",
       "        vertical-align: top;\n",
       "    }\n",
       "\n",
       "    .dataframe thead th {\n",
       "        text-align: right;\n",
       "    }\n",
       "</style>\n",
       "<table border=\"1\" class=\"dataframe\">\n",
       "  <thead>\n",
       "    <tr style=\"text-align: right;\">\n",
       "      <th></th>\n",
       "      <th>Student_ID</th>\n",
       "      <th>Course_ID</th>\n",
       "      <th>Date</th>\n",
       "      <th>Time_Spent_Minutes</th>\n",
       "      <th>Completion_Percentage</th>\n",
       "    </tr>\n",
       "  </thead>\n",
       "  <tbody>\n",
       "    <tr>\n",
       "      <th>0</th>\n",
       "      <td>S001</td>\n",
       "      <td>PY202</td>\n",
       "      <td>2024-01-05</td>\n",
       "      <td>90</td>\n",
       "      <td>46.10</td>\n",
       "    </tr>\n",
       "    <tr>\n",
       "      <th>1</th>\n",
       "      <td>S001</td>\n",
       "      <td>DM101</td>\n",
       "      <td>2024-01-28</td>\n",
       "      <td>155</td>\n",
       "      <td>88.87</td>\n",
       "    </tr>\n",
       "    <tr>\n",
       "      <th>2</th>\n",
       "      <td>S001</td>\n",
       "      <td>UX303</td>\n",
       "      <td>2024-01-28</td>\n",
       "      <td>177</td>\n",
       "      <td>54.93</td>\n",
       "    </tr>\n",
       "    <tr>\n",
       "      <th>3</th>\n",
       "      <td>S002</td>\n",
       "      <td>PY202</td>\n",
       "      <td>2024-02-03</td>\n",
       "      <td>45</td>\n",
       "      <td>32.20</td>\n",
       "    </tr>\n",
       "    <tr>\n",
       "      <th>4</th>\n",
       "      <td>S002</td>\n",
       "      <td>UX303</td>\n",
       "      <td>2024-03-15</td>\n",
       "      <td>119</td>\n",
       "      <td>90.80</td>\n",
       "    </tr>\n",
       "  </tbody>\n",
       "</table>\n",
       "</div>"
      ],
      "text/plain": [
       "  Student_ID Course_ID       Date  Time_Spent_Minutes  Completion_Percentage\n",
       "0       S001     PY202 2024-01-05                  90                  46.10\n",
       "1       S001     DM101 2024-01-28                 155                  88.87\n",
       "2       S001     UX303 2024-01-28                 177                  54.93\n",
       "3       S002     PY202 2024-02-03                  45                  32.20\n",
       "4       S002     UX303 2024-03-15                 119                  90.80"
      ]
     },
     "execution_count": 74,
     "metadata": {},
     "output_type": "execute_result"
    }
   ],
   "source": [
    "courses.head()"
   ]
  },
  {
   "cell_type": "code",
   "execution_count": 75,
   "id": "58546a68",
   "metadata": {},
   "outputs": [],
   "source": [
    "avg_time_per_course = courses.groupby(\"Course_ID\")[\"Time_Spent_Minutes\"].mean().sort_values(ascending=False)\n"
   ]
  },
  {
   "cell_type": "code",
   "execution_count": 76,
   "id": "44c54168",
   "metadata": {},
   "outputs": [
    {
     "data": {
      "text/plain": [
       "Course_ID\n",
       "DM101    102.427673\n",
       "UX303     99.816568\n",
       "WD404     96.419162\n",
       "PY202     93.902439\n",
       "Name: Time_Spent_Minutes, dtype: float64"
      ]
     },
     "execution_count": 76,
     "metadata": {},
     "output_type": "execute_result"
    }
   ],
   "source": [
    "avg_time_per_course"
   ]
  },
  {
   "cell_type": "code",
   "execution_count": 77,
   "id": "77e51f36",
   "metadata": {},
   "outputs": [
    {
     "data": {
      "text/plain": [
       "<AxesSubplot:xlabel='Course_ID'>"
      ]
     },
     "execution_count": 77,
     "metadata": {},
     "output_type": "execute_result"
    },
    {
     "data": {
      "image/png": "[encoded data removed]",
      "text/plain": [
       "<Figure size 640x480 with 1 Axes>"
      ]
     },
     "metadata": {},
     "output_type": "display_data"
    }
   ],
   "source": [
    "avg_time_per_course.plot(kind='bar')"
   ]
  },
  {
   "cell_type": "markdown",
   "id": "97135892",
   "metadata": {},
   "source": [
    "### Course with highest average engagement time: DM101 (102.43 minutes)\n",
    "### Course with lowest average engagement time: PY202 (93.90 minutes)"
   ]
  },
  {
   "cell_type": "code",
   "execution_count": null,
   "id": "da32e1cc",
   "metadata": {},
   "outputs": [],
   "source": []
  },
  {
   "cell_type": "markdown",
   "id": "d0cf9ac0",
   "metadata": {},
   "source": [
    "## question 3 : How does engagement differ by age group or location"
   ]
  },
  {
   "cell_type": "code",
   "execution_count": 78,
   "id": "d82518d6",
   "metadata": {},
   "outputs": [],
   "source": [
    "import matplotlib.pyplot as plt\n",
    "import seaborn as sns"
   ]
  },
  {
   "cell_type": "code",
   "execution_count": null,
   "id": "b09771ae",
   "metadata": {},
   "outputs": [],
   "source": []
  },
  {
   "cell_type": "code",
   "execution_count": 79,
   "id": "c4a49e36",
   "metadata": {},
   "outputs": [
    {
     "name": "stdout",
     "output_type": "stream",
     "text": [
      "Average Engagement by Age Group:\n",
      "           Time_Spent_Minutes\n",
      "Age_Group                    \n",
      "<25                100.328571\n",
      "25-30               97.531646\n",
      "31-35               94.718310\n",
      "Average Engagement by Location:\n",
      "           Time_Spent_Minutes\n",
      "Location                     \n",
      "Bangalore           98.000000\n",
      "Chennai             90.946746\n",
      "Delhi              103.302857\n",
      "Kolkata            104.384615\n",
      "Mumbai              95.435484\n"
     ]
    },
    {
     "name": "stderr",
     "output_type": "stream",
     "text": [
      "/var/folders/q7/k9k5xgc974ldpq3rfcr_lb0w0000gn/T/ipykernel_2553/1235581212.py:9: FutureWarning: The default of observed=False is deprecated and will be changed to True in a future version of pandas. Pass observed=False to retain current behavior or observed=True to adopt the future default and silence this warning.\n",
      "  engagement_by_age = merged.groupby('Age_Group')[['Time_Spent_Minutes']].mean()\n"
     ]
    }
   ],
   "source": [
    "bins = [0, 24, 30, 35]\n",
    "labels = ['<25', '25-30', '31-35']\n",
    "students['Age_Group'] = pd.cut(students['Age'], bins=bins, labels=labels, right=True)\n",
    "\n",
    "# Merge students and courses data on Student_ID\n",
    "merged = pd.merge(courses, students, on='Student_ID')\n",
    "\n",
    "# Group by Age Group and calculate average engagement metrics\n",
    "engagement_by_age = merged.groupby('Age_Group')[['Time_Spent_Minutes']].mean()\n",
    "\n",
    "# Group by Location and calculate average engagement metrics\n",
    "engagement_by_location = merged.groupby('Location')[['Time_Spent_Minutes']].mean()\n",
    "\n",
    "# Print results\n",
    "print(\"Average Engagement by Age Group:\")\n",
    "print(engagement_by_age)\n",
    "\n",
    "print(\"Average Engagement by Location:\")\n",
    "print(engagement_by_location)"
   ]
  },
  {
   "cell_type": "code",
   "execution_count": 80,
   "id": "7623dee7",
   "metadata": {},
   "outputs": [
    {
     "name": "stderr",
     "output_type": "stream",
     "text": [
      "/var/folders/q7/k9k5xgc974ldpq3rfcr_lb0w0000gn/T/ipykernel_2553/1532964799.py:1: FutureWarning: The default of observed=False is deprecated and will be changed to True in a future version of pandas. Pass observed=False to retain current behavior or observed=True to adopt the future default and silence this warning.\n",
      "  age_group_engagement = merged.groupby('Age_Group')[['Time_Spent_Minutes', 'Completion_Percentage']].mean().reset_index()\n",
      "/Users/apple/opt/anaconda3/lib/python3.9/site-packages/seaborn/categorical.py:253: FutureWarning: The default of observed=False is deprecated and will be changed to True in a future version of pandas. Pass observed=False to retain current behavior or observed=True to adopt the future default and silence this warning.\n",
      "  grouped_vals = vals.groupby(grouper)\n"
     ]
    },
    {
     "data": {
      "image/png": "[encoded data removed]",
      "text/plain": [
       "<Figure size 500x500 with 1 Axes>"
      ]
     },
     "metadata": {},
     "output_type": "display_data"
    },
    {
     "data": {
      "image/png": "[encoded data removed]",
      "text/plain": [
       "<Figure size 500x500 with 1 Axes>"
      ]
     },
     "metadata": {},
     "output_type": "display_data"
    }
   ],
   "source": [
    "age_group_engagement = merged.groupby('Age_Group')[['Time_Spent_Minutes', 'Completion_Percentage']].mean().reset_index()\n",
    "\n",
    "# Group by Location\n",
    "location_engagement = merged.groupby('Location')[['Time_Spent_Minutes', 'Completion_Percentage']].mean().reset_index()\n",
    "\n",
    "# Set up visual style\n",
    "sns.set(style=\"whitegrid\")\n",
    "\n",
    "# Plot: Average Time Spent by Age Group\n",
    "plt.figure(figsize=(5, 5))\n",
    "sns.barplot(data=age_group_engagement, x='Age_Group', y='Time_Spent_Minutes', palette='Blues_d')\n",
    "plt.title('Average Time Spent by Age Group')\n",
    "plt.ylabel('Time Spent (minutes)')\n",
    "plt.xlabel('Age Group')\n",
    "\n",
    "plt.show()\n",
    "\n",
    "# Plot: Completion Percentage by Location\n",
    "plt.figure(figsize=(5, 5))\n",
    "sns.barplot(data=location_engagement, x='Location', y='Time_Spent_Minutes', palette='Greens_d')\n",
    "plt.title('Average Completion % by Location')\n",
    "plt.ylabel('Time_Spent_Minutes')\n",
    "plt.xlabel('Location')\n",
    "plt.xticks(rotation=45)\n",
    "\n",
    "plt.show()"
   ]
  },
  {
   "cell_type": "code",
   "execution_count": null,
   "id": "778d43a4",
   "metadata": {},
   "outputs": [],
   "source": []
  },
  {
   "cell_type": "markdown",
   "id": "7be729c9",
   "metadata": {},
   "source": [
    "## question 4 :Average Feedback Rating Per Course"
   ]
  },
  {
   "cell_type": "code",
   "execution_count": null,
   "id": "352cc01b",
   "metadata": {},
   "outputs": [],
   "source": []
  },
  {
   "cell_type": "code",
   "execution_count": 81,
   "id": "5ec692ce",
   "metadata": {},
   "outputs": [],
   "source": [
    "avg_rating_per_course = feedback.groupby(\"Course_ID\")[\"Rating\"].mean().sort_values(ascending=False)\n"
   ]
  },
  {
   "cell_type": "code",
   "execution_count": 82,
   "id": "e43c2f2f",
   "metadata": {},
   "outputs": [
    {
     "data": {
      "text/plain": [
       "Course_ID\n",
       "PY202    3.277778\n",
       "UX303    2.923077\n",
       "DM101    2.900000\n",
       "WD404    2.789474\n",
       "Name: Rating, dtype: float64"
      ]
     },
     "execution_count": 82,
     "metadata": {},
     "output_type": "execute_result"
    }
   ],
   "source": [
    "avg_rating_per_course"
   ]
  },
  {
   "cell_type": "code",
   "execution_count": 83,
   "id": "9c6e9204",
   "metadata": {},
   "outputs": [
    {
     "data": {
      "text/plain": [
       "<AxesSubplot:xlabel='Course_ID'>"
      ]
     },
     "execution_count": 83,
     "metadata": {},
     "output_type": "execute_result"
    },
    {
     "data": {
      "image/png": "[encoded data removed]",
      "text/plain": [
       "<Figure size 640x480 with 1 Axes>"
      ]
     },
     "metadata": {},
     "output_type": "display_data"
    }
   ],
   "source": [
    "avg_rating_per_course.plot(kind='bar')"
   ]
  },
  {
   "cell_type": "code",
   "execution_count": null,
   "id": "28e40cbb",
   "metadata": {},
   "outputs": [],
   "source": []
  },
  {
   "cell_type": "markdown",
   "id": "bd601f7a",
   "metadata": {},
   "source": [
    "## question 5 : is there correlation between completion rate and feedback rating"
   ]
  },
  {
   "cell_type": "code",
   "execution_count": 85,
   "id": "c350376e",
   "metadata": {},
   "outputs": [],
   "source": [
    "# Merge feedback and courses data on Student_ID\n",
    "\n",
    "merged2=pd.merge(courses,feedback, on='Student_ID')"
   ]
  },
  {
   "cell_type": "code",
   "execution_count": 87,
   "id": "06328768",
   "metadata": {},
   "outputs": [
    {
     "data": {
      "text/html": [
       "<div>\n",
       "<style scoped>\n",
       "    .dataframe tbody tr th:only-of-type {\n",
       "        vertical-align: middle;\n",
       "    }\n",
       "\n",
       "    .dataframe tbody tr th {\n",
       "        vertical-align: top;\n",
       "    }\n",
       "\n",
       "    .dataframe thead th {\n",
       "        text-align: right;\n",
       "    }\n",
       "</style>\n",
       "<table border=\"1\" class=\"dataframe\">\n",
       "  <thead>\n",
       "    <tr style=\"text-align: right;\">\n",
       "      <th></th>\n",
       "      <th>Student_ID</th>\n",
       "      <th>Course_ID_x</th>\n",
       "      <th>Date</th>\n",
       "      <th>Time_Spent_Minutes</th>\n",
       "      <th>Completion_Percentage</th>\n",
       "      <th>Course_ID_y</th>\n",
       "      <th>Rating</th>\n",
       "      <th>Feedback_Text</th>\n",
       "    </tr>\n",
       "  </thead>\n",
       "  <tbody>\n",
       "    <tr>\n",
       "      <th>0</th>\n",
       "      <td>S002</td>\n",
       "      <td>PY202</td>\n",
       "      <td>2024-02-03</td>\n",
       "      <td>45</td>\n",
       "      <td>32.20</td>\n",
       "      <td>PY202</td>\n",
       "      <td>3</td>\n",
       "      <td>Well structured</td>\n",
       "    </tr>\n",
       "    <tr>\n",
       "      <th>1</th>\n",
       "      <td>S002</td>\n",
       "      <td>UX303</td>\n",
       "      <td>2024-03-15</td>\n",
       "      <td>119</td>\n",
       "      <td>90.80</td>\n",
       "      <td>PY202</td>\n",
       "      <td>3</td>\n",
       "      <td>Well structured</td>\n",
       "    </tr>\n",
       "    <tr>\n",
       "      <th>2</th>\n",
       "      <td>S002</td>\n",
       "      <td>WD404</td>\n",
       "      <td>2024-02-16</td>\n",
       "      <td>66</td>\n",
       "      <td>99.76</td>\n",
       "      <td>PY202</td>\n",
       "      <td>3</td>\n",
       "      <td>Well structured</td>\n",
       "    </tr>\n",
       "    <tr>\n",
       "      <th>3</th>\n",
       "      <td>S002</td>\n",
       "      <td>PY202</td>\n",
       "      <td>2024-03-06</td>\n",
       "      <td>136</td>\n",
       "      <td>18.18</td>\n",
       "      <td>PY202</td>\n",
       "      <td>3</td>\n",
       "      <td>Well structured</td>\n",
       "    </tr>\n",
       "    <tr>\n",
       "      <th>4</th>\n",
       "      <td>S002</td>\n",
       "      <td>DM101</td>\n",
       "      <td>2024-01-15</td>\n",
       "      <td>49</td>\n",
       "      <td>66.47</td>\n",
       "      <td>PY202</td>\n",
       "      <td>3</td>\n",
       "      <td>Well structured</td>\n",
       "    </tr>\n",
       "  </tbody>\n",
       "</table>\n",
       "</div>"
      ],
      "text/plain": [
       "  Student_ID Course_ID_x       Date  Time_Spent_Minutes  \\\n",
       "0       S002       PY202 2024-02-03                  45   \n",
       "1       S002       UX303 2024-03-15                 119   \n",
       "2       S002       WD404 2024-02-16                  66   \n",
       "3       S002       PY202 2024-03-06                 136   \n",
       "4       S002       DM101 2024-01-15                  49   \n",
       "\n",
       "   Completion_Percentage Course_ID_y  Rating    Feedback_Text  \n",
       "0                  32.20       PY202       3  Well structured  \n",
       "1                  90.80       PY202       3  Well structured  \n",
       "2                  99.76       PY202       3  Well structured  \n",
       "3                  18.18       PY202       3  Well structured  \n",
       "4                  66.47       PY202       3  Well structured  "
      ]
     },
     "execution_count": 87,
     "metadata": {},
     "output_type": "execute_result"
    }
   ],
   "source": [
    "merged2.head()"
   ]
  },
  {
   "cell_type": "code",
   "execution_count": 88,
   "id": "f4e4fe3e",
   "metadata": {},
   "outputs": [
    {
     "name": "stdout",
     "output_type": "stream",
     "text": [
      "Correlation between Completion % and Rating: -0.067\n"
     ]
    }
   ],
   "source": [
    "correlation = merged2[\"Completion_Percentage\"].corr(merged2[\"Rating\"])\n",
    "print(f\"Correlation between Completion % and Rating: {correlation:.3f}\")\n"
   ]
  },
  {
   "cell_type": "markdown",
   "id": "46170ced",
   "metadata": {},
   "source": [
    "### Correlation coefficient: -0.067\n",
    "### This indicates a very weak negative correlation between completion rate and feedback rating."
   ]
  },
  {
   "cell_type": "code",
   "execution_count": null,
   "id": "bccefd72",
   "metadata": {},
   "outputs": [],
   "source": []
  },
  {
   "cell_type": "code",
   "execution_count": null,
   "id": "e98298b9",
   "metadata": {},
   "outputs": [],
   "source": []
  },
  {
   "cell_type": "markdown",
   "id": "7943d3bc",
   "metadata": {},
   "source": [
    "# 3.visualization"
   ]
  },
  {
   "cell_type": "code",
   "execution_count": null,
   "id": "50df34f5",
   "metadata": {},
   "outputs": [],
   "source": []
  },
  {
   "cell_type": "markdown",
   "id": "4afd6a62",
   "metadata": {},
   "source": [
    "# 1.engagement pattern by course and demography"
   ]
  },
  {
   "cell_type": "code",
   "execution_count": 111,
   "id": "b8032c4f",
   "metadata": {},
   "outputs": [],
   "source": [
    "merged_df = pd.merge(courses, students, on=\"Student_ID\")\n"
   ]
  },
  {
   "cell_type": "code",
   "execution_count": 113,
   "id": "ab2acf38",
   "metadata": {},
   "outputs": [
    {
     "data": {
      "text/html": [
       "<div>\n",
       "<style scoped>\n",
       "    .dataframe tbody tr th:only-of-type {\n",
       "        vertical-align: middle;\n",
       "    }\n",
       "\n",
       "    .dataframe tbody tr th {\n",
       "        vertical-align: top;\n",
       "    }\n",
       "\n",
       "    .dataframe thead th {\n",
       "        text-align: right;\n",
       "    }\n",
       "</style>\n",
       "<table border=\"1\" class=\"dataframe\">\n",
       "  <thead>\n",
       "    <tr style=\"text-align: right;\">\n",
       "      <th></th>\n",
       "      <th>Student_ID</th>\n",
       "      <th>Course_ID</th>\n",
       "      <th>Date</th>\n",
       "      <th>Time_Spent_Minutes</th>\n",
       "      <th>Completion_Percentage</th>\n",
       "      <th>Name</th>\n",
       "      <th>Age</th>\n",
       "      <th>Gender</th>\n",
       "      <th>Location</th>\n",
       "      <th>Enrolment_Date</th>\n",
       "      <th>Age_Group</th>\n",
       "    </tr>\n",
       "  </thead>\n",
       "  <tbody>\n",
       "    <tr>\n",
       "      <th>0</th>\n",
       "      <td>S005</td>\n",
       "      <td>PY202</td>\n",
       "      <td>2024-01-01</td>\n",
       "      <td>28</td>\n",
       "      <td>73.71</td>\n",
       "      <td>Student_5</td>\n",
       "      <td>24</td>\n",
       "      <td>Other</td>\n",
       "      <td>Delhi</td>\n",
       "      <td>2023-05-06</td>\n",
       "      <td>&lt;25</td>\n",
       "    </tr>\n",
       "    <tr>\n",
       "      <th>1</th>\n",
       "      <td>S076</td>\n",
       "      <td>PY202</td>\n",
       "      <td>2024-01-01</td>\n",
       "      <td>76</td>\n",
       "      <td>44.52</td>\n",
       "      <td>Student_76</td>\n",
       "      <td>18</td>\n",
       "      <td>Male</td>\n",
       "      <td>Chennai</td>\n",
       "      <td>2023-03-25</td>\n",
       "      <td>&lt;25</td>\n",
       "    </tr>\n",
       "    <tr>\n",
       "      <th>2</th>\n",
       "      <td>S090</td>\n",
       "      <td>DM101</td>\n",
       "      <td>2024-01-01</td>\n",
       "      <td>88</td>\n",
       "      <td>50.03</td>\n",
       "      <td>Student_90</td>\n",
       "      <td>29</td>\n",
       "      <td>Female</td>\n",
       "      <td>Kolkata</td>\n",
       "      <td>2023-05-06</td>\n",
       "      <td>25-30</td>\n",
       "    </tr>\n",
       "    <tr>\n",
       "      <th>3</th>\n",
       "      <td>S046</td>\n",
       "      <td>DM101</td>\n",
       "      <td>2024-01-01</td>\n",
       "      <td>137</td>\n",
       "      <td>77.23</td>\n",
       "      <td>Student_46</td>\n",
       "      <td>27</td>\n",
       "      <td>Male</td>\n",
       "      <td>Bangalore</td>\n",
       "      <td>2023-06-26</td>\n",
       "      <td>25-30</td>\n",
       "    </tr>\n",
       "    <tr>\n",
       "      <th>4</th>\n",
       "      <td>S046</td>\n",
       "      <td>DM101</td>\n",
       "      <td>2024-01-01</td>\n",
       "      <td>62</td>\n",
       "      <td>37.13</td>\n",
       "      <td>Student_46</td>\n",
       "      <td>27</td>\n",
       "      <td>Male</td>\n",
       "      <td>Bangalore</td>\n",
       "      <td>2023-06-26</td>\n",
       "      <td>25-30</td>\n",
       "    </tr>\n",
       "  </tbody>\n",
       "</table>\n",
       "</div>"
      ],
      "text/plain": [
       "  Student_ID Course_ID       Date  Time_Spent_Minutes  Completion_Percentage  \\\n",
       "0       S005     PY202 2024-01-01                  28                  73.71   \n",
       "1       S076     PY202 2024-01-01                  76                  44.52   \n",
       "2       S090     DM101 2024-01-01                  88                  50.03   \n",
       "3       S046     DM101 2024-01-01                 137                  77.23   \n",
       "4       S046     DM101 2024-01-01                  62                  37.13   \n",
       "\n",
       "         Name  Age  Gender   Location Enrolment_Date Age_Group  \n",
       "0   Student_5   24   Other      Delhi     2023-05-06       <25  \n",
       "1  Student_76   18    Male    Chennai     2023-03-25       <25  \n",
       "2  Student_90   29  Female    Kolkata     2023-05-06     25-30  \n",
       "3  Student_46   27    Male  Bangalore     2023-06-26     25-30  \n",
       "4  Student_46   27    Male  Bangalore     2023-06-26     25-30  "
      ]
     },
     "execution_count": 113,
     "metadata": {},
     "output_type": "execute_result"
    }
   ],
   "source": [
    "merged_df.head()"
   ]
  },
  {
   "cell_type": "code",
   "execution_count": 114,
   "id": "d2728152",
   "metadata": {},
   "outputs": [
    {
     "data": {
      "image/png": "[encoded data removed]",
      "text/plain": [
       "<Figure size 1200x600 with 2 Axes>"
      ]
     },
     "metadata": {},
     "output_type": "display_data"
    }
   ],
   "source": [
    "heatmap_data = merged_df.groupby(['Course_ID', 'Location'])['Completion_Percentage'].mean().unstack()\n",
    "\n",
    "plt.figure(figsize=(12, 6))\n",
    "sns.heatmap(heatmap_data, annot=True, cmap=\"YlGnBu\", fmt=\".1f\", linewidths=0.5)\n",
    "plt.title(\"Heatmap: Completion % by Course and Location\")\n",
    "plt.ylabel(\"Course\")\n",
    "plt.xlabel(\"Location\")\n",
    "plt.tight_layout()\n",
    "plt.savefig(\"heatmap_course_location_completion.png\")\n",
    "plt.show()"
   ]
  },
  {
   "cell_type": "code",
   "execution_count": null,
   "id": "5c878823",
   "metadata": {},
   "outputs": [],
   "source": []
  },
  {
   "cell_type": "code",
   "execution_count": null,
   "id": "29d47aff",
   "metadata": {},
   "outputs": [],
   "source": []
  },
  {
   "cell_type": "markdown",
   "id": "7940e538",
   "metadata": {},
   "source": [
    "## 2.compare feedback rating"
   ]
  },
  {
   "cell_type": "code",
   "execution_count": 89,
   "id": "c708b33c",
   "metadata": {},
   "outputs": [
    {
     "data": {
      "text/html": [
       "<div>\n",
       "<style scoped>\n",
       "    .dataframe tbody tr th:only-of-type {\n",
       "        vertical-align: middle;\n",
       "    }\n",
       "\n",
       "    .dataframe tbody tr th {\n",
       "        vertical-align: top;\n",
       "    }\n",
       "\n",
       "    .dataframe thead th {\n",
       "        text-align: right;\n",
       "    }\n",
       "</style>\n",
       "<table border=\"1\" class=\"dataframe\">\n",
       "  <thead>\n",
       "    <tr style=\"text-align: right;\">\n",
       "      <th></th>\n",
       "      <th>Student_ID</th>\n",
       "      <th>Course_ID</th>\n",
       "      <th>Rating</th>\n",
       "      <th>Feedback_Text</th>\n",
       "    </tr>\n",
       "  </thead>\n",
       "  <tbody>\n",
       "    <tr>\n",
       "      <th>0</th>\n",
       "      <td>S057</td>\n",
       "      <td>UX303</td>\n",
       "      <td>2</td>\n",
       "      <td>Too fast-paced</td>\n",
       "    </tr>\n",
       "    <tr>\n",
       "      <th>1</th>\n",
       "      <td>S063</td>\n",
       "      <td>PY202</td>\n",
       "      <td>2</td>\n",
       "      <td>Loved the examples</td>\n",
       "    </tr>\n",
       "    <tr>\n",
       "      <th>2</th>\n",
       "      <td>S022</td>\n",
       "      <td>PY202</td>\n",
       "      <td>4</td>\n",
       "      <td>Could be better</td>\n",
       "    </tr>\n",
       "    <tr>\n",
       "      <th>3</th>\n",
       "      <td>S011</td>\n",
       "      <td>PY202</td>\n",
       "      <td>5</td>\n",
       "      <td>Needs improvement</td>\n",
       "    </tr>\n",
       "    <tr>\n",
       "      <th>4</th>\n",
       "      <td>S073</td>\n",
       "      <td>WD404</td>\n",
       "      <td>4</td>\n",
       "      <td>Could be better</td>\n",
       "    </tr>\n",
       "  </tbody>\n",
       "</table>\n",
       "</div>"
      ],
      "text/plain": [
       "  Student_ID Course_ID  Rating       Feedback_Text\n",
       "0       S057     UX303       2      Too fast-paced\n",
       "1       S063     PY202       2  Loved the examples\n",
       "2       S022     PY202       4     Could be better\n",
       "3       S011     PY202       5   Needs improvement\n",
       "4       S073     WD404       4     Could be better"
      ]
     },
     "execution_count": 89,
     "metadata": {},
     "output_type": "execute_result"
    }
   ],
   "source": [
    "feedback.head()"
   ]
  },
  {
   "cell_type": "code",
   "execution_count": 95,
   "id": "6b0db30f",
   "metadata": {},
   "outputs": [
    {
     "data": {
      "image/png": "[encoded data removed]",
      "text/plain": [
       "<Figure size 640x480 with 1 Axes>"
      ]
     },
     "metadata": {},
     "output_type": "display_data"
    }
   ],
   "source": [
    "sns.countplot(x='Rating', data=feedback, palette='BuPu')\n",
    "plt.title(\"Number of Students per Rating\")\n",
    "plt.xlabel(\"Rating\")\n",
    "plt.ylabel(\"Number of Students\")\n",
    "plt.show()\n"
   ]
  },
  {
   "cell_type": "code",
   "execution_count": null,
   "id": "f8a87065",
   "metadata": {},
   "outputs": [],
   "source": []
  },
  {
   "cell_type": "markdown",
   "id": "54ed3f34",
   "metadata": {},
   "source": [
    "# 3. Highlight Trend Over Time"
   ]
  },
  {
   "cell_type": "code",
   "execution_count": 99,
   "id": "8900f446",
   "metadata": {},
   "outputs": [
    {
     "data": {
      "text/html": [
       "<div>\n",
       "<style scoped>\n",
       "    .dataframe tbody tr th:only-of-type {\n",
       "        vertical-align: middle;\n",
       "    }\n",
       "\n",
       "    .dataframe tbody tr th {\n",
       "        vertical-align: top;\n",
       "    }\n",
       "\n",
       "    .dataframe thead th {\n",
       "        text-align: right;\n",
       "    }\n",
       "</style>\n",
       "<table border=\"1\" class=\"dataframe\">\n",
       "  <thead>\n",
       "    <tr style=\"text-align: right;\">\n",
       "      <th></th>\n",
       "      <th>Student_ID</th>\n",
       "      <th>Course_ID</th>\n",
       "      <th>Date</th>\n",
       "      <th>Time_Spent_Minutes</th>\n",
       "      <th>Completion_Percentage</th>\n",
       "    </tr>\n",
       "  </thead>\n",
       "  <tbody>\n",
       "    <tr>\n",
       "      <th>0</th>\n",
       "      <td>S001</td>\n",
       "      <td>PY202</td>\n",
       "      <td>2024-01-05</td>\n",
       "      <td>90</td>\n",
       "      <td>46.10</td>\n",
       "    </tr>\n",
       "    <tr>\n",
       "      <th>1</th>\n",
       "      <td>S001</td>\n",
       "      <td>DM101</td>\n",
       "      <td>2024-01-28</td>\n",
       "      <td>155</td>\n",
       "      <td>88.87</td>\n",
       "    </tr>\n",
       "    <tr>\n",
       "      <th>2</th>\n",
       "      <td>S001</td>\n",
       "      <td>UX303</td>\n",
       "      <td>2024-01-28</td>\n",
       "      <td>177</td>\n",
       "      <td>54.93</td>\n",
       "    </tr>\n",
       "    <tr>\n",
       "      <th>3</th>\n",
       "      <td>S002</td>\n",
       "      <td>PY202</td>\n",
       "      <td>2024-02-03</td>\n",
       "      <td>45</td>\n",
       "      <td>32.20</td>\n",
       "    </tr>\n",
       "    <tr>\n",
       "      <th>4</th>\n",
       "      <td>S002</td>\n",
       "      <td>UX303</td>\n",
       "      <td>2024-03-15</td>\n",
       "      <td>119</td>\n",
       "      <td>90.80</td>\n",
       "    </tr>\n",
       "  </tbody>\n",
       "</table>\n",
       "</div>"
      ],
      "text/plain": [
       "  Student_ID Course_ID       Date  Time_Spent_Minutes  Completion_Percentage\n",
       "0       S001     PY202 2024-01-05                  90                  46.10\n",
       "1       S001     DM101 2024-01-28                 155                  88.87\n",
       "2       S001     UX303 2024-01-28                 177                  54.93\n",
       "3       S002     PY202 2024-02-03                  45                  32.20\n",
       "4       S002     UX303 2024-03-15                 119                  90.80"
      ]
     },
     "execution_count": 99,
     "metadata": {},
     "output_type": "execute_result"
    }
   ],
   "source": [
    "courses.head()"
   ]
  },
  {
   "cell_type": "code",
   "execution_count": 110,
   "id": "008947c6",
   "metadata": {},
   "outputs": [
    {
     "data": {
      "image/png": "[encoded data removed]",
      "text/plain": [
       "<Figure size 1000x500 with 1 Axes>"
      ]
     },
     "metadata": {},
     "output_type": "display_data"
    }
   ],
   "source": [
    "# Group by date and calculate average time spent\n",
    "daily_avg = courses.groupby('Date')['Time_Spent_Minutes'].mean().reset_index()\n",
    "\n",
    "# Plot using matplotlib\n",
    "plt.figure(figsize=(10, 5))\n",
    "plt.plot(daily_avg['Date'], daily_avg['Time_Spent_Minutes'], marker='o', linestyle='-')\n",
    "\n",
    "plt.title('Average Time Spent Per Day')\n",
    "plt.xlabel('Date')\n",
    "plt.ylabel('Time Spent (Minutes)')\n",
    "plt.xticks(rotation=45)\n",
    "plt.show()\n"
   ]
  },
  {
   "cell_type": "code",
   "execution_count": null,
   "id": "b39d7ce5",
   "metadata": {},
   "outputs": [],
   "source": []
  },
  {
   "cell_type": "markdown",
   "id": "05e632c3",
   "metadata": {},
   "source": [
    "# Top 5 insight"
   ]
  },
  {
   "cell_type": "markdown",
   "id": "63a97194",
   "metadata": {},
   "source": [
    "### 1.Average Completion Rate is Moderate (~55%)\n",
    "### The overall average course completion rate across the platform is 54.78%, indicating room for improvement in student retention and motivation.\n",
    "\n",
    "### 2.Engagement Varies Significantly by Course\n",
    "### DM101  shows the highest average time spent (~102 mins).\n",
    "### PY202 has the lowest average time spent (~93.9 mins), suggesting it may need more engaging content or support.\n",
    "\n",
    "### 3.Demographics Influence Engagement\n",
    "### Students aged <25 and from cities like Kolkata show the highest completion rates.\n",
    "\n",
    "### 4.Weak Correlation Between Completion and Ratings\n",
    "### Correlation between course completion % and feedback ratings is very weak (-0.06).\n",
    "### Suggests that high completion does not guarantee satisfaction—students may complete but still give low ratings due to quality or difficulty.\n",
    "\n",
    "### 5. Completion % by Course and Location are highest in mumbai location in PY202 subject."
   ]
  },
  {
   "cell_type": "code",
   "execution_count": null,
   "id": "29452fc3",
   "metadata": {},
   "outputs": [],
   "source": []
  },
  {
   "cell_type": "markdown",
   "id": "88e9aee3",
   "metadata": {},
   "source": [
    "# Top 3 Recommendation"
   ]
  },
  {
   "cell_type": "markdown",
   "id": "5d2bdec3",
   "metadata": {},
   "source": [
    "### 1. Despite being a popular subject, PY202 shows the lowest engagement time (~93.9 mins).\n",
    "### 2. Yet, Mumbai students have the highest completion rate for this course, indicating potential in certain regions.\n",
    "### 3. Action: Redesign content for better pacing and interactivity. Use Mumbai learners’ behavior as a benchmark for improvements."
   ]
  },
  {
   "cell_type": "code",
   "execution_count": null,
   "id": "0a04fb0d",
   "metadata": {},
   "outputs": [],
   "source": []
  },
  {
   "cell_type": "code",
   "execution_count": null,
   "id": "98fc6ad4",
   "metadata": {},
   "outputs": [],
   "source": []
  }
 ],
 "metadata": {
  "kernelspec": {
   "display_name": "Python 3 (ipykernel)",
   "language": "python",
   "name": "python3"
  },
  "language_info": {
   "codemirror_mode": {
    "name": "ipython",
    "version": 3
   },
   "file_extension": ".py",
   "mimetype": "text/x-python",
   "name": "python",
   "nbconvert_exporter": "python",
   "pygments_lexer": "ipython3",
   "version": "3.9.13"
  }
 },
 "nbformat": 4,
 "nbformat_minor": 5
}
